{
 "cells": [
  {
   "cell_type": "markdown",
   "id": "367ac33b",
   "metadata": {},
   "source": [
    "### HOMEWORK - ASSIGNMENT 9 - HMM\n",
    "### BY SOURITA NAG AND SARAH RUCKMAN"
   ]
  },
  {
   "cell_type": "code",
   "execution_count": 2,
   "id": "036485a2",
   "metadata": {},
   "outputs": [
    {
     "name": "stdout",
     "output_type": "stream",
     "text": [
      "Requirement already satisfied: hmmlearn in c:\\users\\sourita nag\\appdata\\roaming\\python\\python39\\site-packages (0.3.2)\n",
      "Requirement already satisfied: numpy>=1.10 in c:\\users\\sourita nag\\anaconda3\\lib\\site-packages (from hmmlearn) (1.24.3)\n",
      "Requirement already satisfied: scikit-learn!=0.22.0,>=0.16 in c:\\users\\sourita nag\\anaconda3\\lib\\site-packages (from hmmlearn) (1.3.0)\n",
      "Requirement already satisfied: scipy>=0.19 in c:\\users\\sourita nag\\anaconda3\\lib\\site-packages (from hmmlearn) (1.11.1)\n",
      "Requirement already satisfied: joblib>=1.1.1 in c:\\users\\sourita nag\\anaconda3\\lib\\site-packages (from scikit-learn!=0.22.0,>=0.16->hmmlearn) (1.2.0)\n",
      "Requirement already satisfied: threadpoolctl>=2.0.0 in c:\\users\\sourita nag\\anaconda3\\lib\\site-packages (from scikit-learn!=0.22.0,>=0.16->hmmlearn) (2.2.0)\n",
      "Note: you may need to restart the kernel to use updated packages.\n"
     ]
    }
   ],
   "source": [
    "pip install --upgrade --user hmmlearn"
   ]
  },
  {
   "cell_type": "code",
   "execution_count": 188,
   "id": "ba2c83e3",
   "metadata": {},
   "outputs": [],
   "source": [
    "import pandas as pd\n",
    "import numpy as np\n",
    "from hmmlearn import hmm\n",
    "import torch"
   ]
  },
  {
   "cell_type": "markdown",
   "id": "71ef54f6",
   "metadata": {},
   "source": [
    "### Problem 1"
   ]
  },
  {
   "cell_type": "code",
   "execution_count": 189,
   "id": "3101fe5f",
   "metadata": {},
   "outputs": [
    {
     "data": {
      "text/plain": [
       "array([6, 2, 2, 3, 1, 5, 3, 6, 3, 4, 1, 3, 1, 5, 6, 3, 5, 2, 4, 5, 4, 3,\n",
       "       2, 3, 3, 3, 4, 5, 3, 3, 1, 1, 2, 2, 4, 6, 6, 3, 2, 5, 5, 5, 5, 1,\n",
       "       5, 3, 2, 1, 5, 2, 1, 4, 6, 4, 5, 1, 6, 4, 5, 1, 5, 5, 2, 6, 4, 6,\n",
       "       4, 5, 2, 3, 1, 6, 6, 6, 2, 6, 6, 6, 5, 3, 6, 3, 1, 6, 6, 6, 6, 5,\n",
       "       4, 6, 4, 6, 6, 6, 6, 6, 6, 5, 1, 6, 6, 4, 6, 3, 6, 6, 4, 2, 1, 5,\n",
       "       2, 6, 4, 6, 6, 6, 2, 6, 3, 6, 3, 4, 1, 4, 2, 1, 5, 3, 4, 3, 4, 1,\n",
       "       6, 5, 5, 5, 3, 4, 4, 4, 2, 2, 3, 2, 5, 6, 1, 4, 1, 5, 6, 1, 6, 1,\n",
       "       6, 6, 6, 6, 6, 6, 2, 3, 2, 1, 2, 6, 6, 4, 5, 6, 6, 6, 6, 6, 4, 6,\n",
       "       3, 3, 6, 6, 5, 6, 6, 6, 6, 6, 6, 1, 6, 6, 4, 6, 4, 6, 5, 5, 3, 2,\n",
       "       4, 6, 6, 6, 1, 6, 6, 6, 1, 4, 6, 6, 3, 2, 5, 3, 4, 2, 2, 5, 5, 6,\n",
       "       1, 2, 1, 3, 2, 6, 1, 1, 4, 5, 2, 2, 3, 3, 6, 6, 6, 2, 4, 1, 6, 5,\n",
       "       6, 6, 5, 6, 2, 4, 6, 6, 6, 6, 4, 6, 2, 6, 6, 6, 4, 6, 6, 4, 6, 6,\n",
       "       6, 4, 6, 4, 6, 5, 5, 6, 6, 4, 6, 6, 6, 1, 4, 6, 3, 2, 5, 4, 4, 4,\n",
       "       1, 3, 3, 2, 5, 6, 2, 5, 1, 6, 1, 4, 3, 5], dtype=int64)"
      ]
     },
     "execution_count": 189,
     "metadata": {},
     "output_type": "execute_result"
    }
   ],
   "source": [
    "dice_rolls = pd.read_csv('C:/Users/Sourita Nag/Downloads/hmm_pb1.csv',header=None)\n",
    "x = np.array(dice_rolls)[0]\n",
    "x"
   ]
  },
  {
   "cell_type": "code",
   "execution_count": 190,
   "id": "cc4eb650",
   "metadata": {},
   "outputs": [
    {
     "data": {
      "text/plain": [
       "torch.Size([2, 6])"
      ]
     },
     "execution_count": 190,
     "metadata": {},
     "output_type": "execute_result"
    }
   ],
   "source": [
    "#Transition probs\n",
    "a_k = torch.tensor([[0.95,0.05],[0.05,0.95]])\n",
    "\n",
    "#Start probs\n",
    "pi_k = torch.tensor([0.5,0.5])\n",
    "pi_k.shape\n",
    "\n",
    "#Emission probs\n",
    "b_k = torch.tensor([[1/6,1/6,1/6,1/6,1/6,1/6],[1/10,1/10,1/10,1/10,1/10,1/2]])\n",
    "b_k.shape"
   ]
  },
  {
   "cell_type": "markdown",
   "id": "2483b387",
   "metadata": {},
   "source": [
    "### Part a - Viterbi Algorithm"
   ]
  },
  {
   "cell_type": "code",
   "execution_count": 191,
   "id": "17dc9aa0",
   "metadata": {},
   "outputs": [
    {
     "data": {
      "text/plain": [
       "tensor([1, 1, 1, 1, 1, 1, 1, 1, 1, 1, 1, 1, 1, 1, 1, 1, 1, 1, 1, 1, 1, 1, 1, 1,\n",
       "        1, 1, 1, 1, 1, 1, 1, 1, 1, 1, 1, 1, 1, 1, 1, 1, 1, 1, 1, 1, 1, 1, 1, 1,\n",
       "        1, 1, 1, 1, 1, 1, 1, 1, 1, 1, 1, 1, 1, 1, 1, 1, 1, 1, 1, 1, 1, 1, 1, 2,\n",
       "        2, 2, 2, 2, 2, 2, 2, 2, 2, 2, 2, 2, 2, 2, 2, 2, 2, 2, 2, 2, 2, 2, 2, 2,\n",
       "        2, 2, 2, 2, 2, 2, 2, 2, 2, 2, 2, 2, 2, 2, 2, 2, 2, 2, 2, 2, 2, 2, 2, 2,\n",
       "        1, 1, 1, 1, 1, 1, 1, 1, 1, 1, 1, 1, 1, 1, 1, 1, 1, 1, 1, 1, 1, 1, 1, 1,\n",
       "        1, 1, 1, 1, 1, 1, 2, 2, 2, 2, 2, 2, 2, 2, 2, 2, 2, 2, 2, 2, 2, 2, 2, 2,\n",
       "        2, 2, 2, 2, 2, 2, 2, 2, 2, 2, 2, 2, 2, 2, 2, 2, 2, 2, 2, 2, 2, 2, 2, 2,\n",
       "        2, 2, 2, 2, 2, 2, 2, 2, 2, 2, 2, 2, 2, 2, 2, 2, 2, 2, 1, 1, 1, 1, 1, 1,\n",
       "        1, 1, 1, 1, 1, 1, 1, 1, 1, 1, 1, 1, 1, 1, 1, 1, 1, 1, 2, 2, 2, 2, 2, 2,\n",
       "        2, 2, 2, 2, 2, 2, 2, 2, 2, 2, 2, 2, 2, 2, 2, 2, 2, 2, 2, 2, 2, 2, 2, 2,\n",
       "        2, 2, 2, 2, 2, 2, 2, 2, 2, 2, 2, 2, 2, 2, 2, 2, 1, 1, 1, 1, 1, 1, 1, 1,\n",
       "        1, 1, 1, 1, 1, 1, 1, 1, 1, 1, 1, 1])"
      ]
     },
     "execution_count": 191,
     "metadata": {},
     "output_type": "execute_result"
    }
   ],
   "source": [
    "C_k = torch.zeros(2,x.size)\n",
    "P_tr_k = torch.zeros(2,x.size)\n",
    "C_k[:,0] = torch.log(b_k[:,x[1]]*pi_k)\n",
    "for t in range(1,x.size):\n",
    "    for k in range(2):\n",
    "        max_val = torch.log(a_k[:,k]) + C_k[:,t-1]\n",
    "        C_k[k,t] = torch.log(b_k[k,x[t]-1]) + torch.max(max_val)\n",
    "        P_tr_k[k,t] = torch.argmax(max_val)\n",
    "P = torch.exp(torch.max(C_k,1).values)\n",
    "y=torch.ones(x.size).long()\n",
    "y[x.size-1]=torch.argmax(C_k[:,x.size-1]) + 1\n",
    "\n",
    "for t in range(x.size-1,0,-1):\n",
    "    y[t-1]=P_tr_k[y[t]-1,t] + 1\n",
    "y"
   ]
  },
  {
   "cell_type": "markdown",
   "id": "5f28021b",
   "metadata": {},
   "source": [
    "### Part b - Forward and Backward "
   ]
  },
  {
   "cell_type": "code",
   "execution_count": 192,
   "id": "964dad63",
   "metadata": {},
   "outputs": [
    {
     "data": {
      "text/plain": [
       "torch.Size([2, 300])"
      ]
     },
     "execution_count": 192,
     "metadata": {},
     "output_type": "execute_result"
    }
   ],
   "source": [
    "#Forward algorithm\n",
    "alpha_k = torch.zeros(2,x.size)\n",
    "alpha_k[:,0] = b_k[:,x[1]]*pi_k\n",
    "alpha_k[:,0]\n",
    "\n",
    "for t in range(1,x.size):\n",
    "    alpha_k[:,t] = b_k[:,x[t]-1]*torch.sum(a_k@alpha_k[:,t-1])\n",
    "    u = -min(torch.floor(torch.log10(alpha_k[:,t])))\n",
    "    alpha_k[:,t] = alpha_k[:,t]*(10**u)\n",
    "alpha_k.shape"
   ]
  },
  {
   "cell_type": "code",
   "execution_count": 193,
   "id": "b8b2faa5",
   "metadata": {},
   "outputs": [],
   "source": [
    "#alpha_k"
   ]
  },
  {
   "cell_type": "code",
   "execution_count": 194,
   "id": "662b81a6",
   "metadata": {
    "scrolled": true
   },
   "outputs": [
    {
     "name": "stdout",
     "output_type": "stream",
     "text": [
      "The ratio of alpha 138 is given as 1.666666865348816\n"
     ]
    }
   ],
   "source": [
    "#Reporting the results\n",
    "alpha_138 = alpha_k[0,138]/alpha_k[1,138]\n",
    "print(f'The ratio of alpha 138 is given as {alpha_138}')"
   ]
  },
  {
   "cell_type": "code",
   "execution_count": 195,
   "id": "2c8e08be",
   "metadata": {},
   "outputs": [],
   "source": [
    "#Backward algorithm\n",
    "beta_k = torch.zeros(2,x.size)\n",
    "beta_k[:,-1] = 1\n",
    "\n",
    "for t in range(x.size-2,-1,-1):\n",
    "    for k in range(2):\n",
    "        \n",
    "        beta_k[k,t] = torch.sum(a_k[k,:]*beta_k[:,t+1]*b_k[:,x[t+1]-1])\n",
    "        u = -(torch.floor(torch.log10(beta_k[k,t])))\n",
    "        beta_k[k,t] = beta_k[k,t]*(10**u)"
   ]
  },
  {
   "cell_type": "code",
   "execution_count": 196,
   "id": "989db721",
   "metadata": {},
   "outputs": [],
   "source": [
    "#beta_k"
   ]
  },
  {
   "cell_type": "code",
   "execution_count": 197,
   "id": "206e0f30",
   "metadata": {},
   "outputs": [
    {
     "name": "stdout",
     "output_type": "stream",
     "text": [
      "The ratio of beta 138 is given as 0.2867904007434845\n"
     ]
    }
   ],
   "source": [
    "#Reporting the results\n",
    "beta_138 = beta_k[0,138]/beta_k[1,138]\n",
    "print(f'The ratio of beta 138 is given as {beta_138}')"
   ]
  },
  {
   "cell_type": "markdown",
   "id": "c92c3180",
   "metadata": {},
   "source": [
    "### Problem 2 - Baum Welch Using package"
   ]
  },
  {
   "cell_type": "code",
   "execution_count": 198,
   "id": "df602368",
   "metadata": {},
   "outputs": [
    {
     "data": {
      "text/plain": [
       "(20000,)"
      ]
     },
     "execution_count": 198,
     "metadata": {},
     "output_type": "execute_result"
    }
   ],
   "source": [
    "x2 =  pd.read_csv('C:/Users/Sourita Nag/Downloads/hmm_pb2.csv',delimiter =',',header=None)\n",
    "x2 = np.array(x2)[0]\n",
    "x2.shape"
   ]
  },
  {
   "cell_type": "code",
   "execution_count": 199,
   "id": "3d9262bf",
   "metadata": {},
   "outputs": [
    {
     "data": {
      "text/plain": [
       "array([3, 1, 5, ..., 2, 3, 4], dtype=int64)"
      ]
     },
     "execution_count": 199,
     "metadata": {},
     "output_type": "execute_result"
    }
   ],
   "source": [
    "x2"
   ]
  },
  {
   "cell_type": "code",
   "execution_count": 200,
   "id": "15fd2adc",
   "metadata": {},
   "outputs": [
    {
     "name": "stderr",
     "output_type": "stream",
     "text": [
      "Even though the 'startprob_' attribute is set, it will be overwritten during initialization because 'init_params' contains 's'\n",
      "Even though the 'transmat_' attribute is set, it will be overwritten during initialization because 'init_params' contains 't'\n",
      "Even though the 'emissionprob_' attribute is set, it will be overwritten during initialization because 'init_params' contains 'e'\n"
     ]
    },
    {
     "name": "stdout",
     "output_type": "stream",
     "text": [
      "The start probabilities is [1.80111513e-04 9.99819888e-01]\n",
      "\n",
      "The transition probabilities is [[0.15447447 0.84552553]\n",
      " [0.65837945 0.34162055]]\n",
      "\n",
      "The emission probabilities is [[0.         0.21097839 0.13518022 0.15214845 0.16723426 0.10765913\n",
      "  0.22679956]\n",
      " [0.         0.14138413 0.19248674 0.18407731 0.21999813 0.14143654\n",
      "  0.12061715]]\n",
      "\n"
     ]
    }
   ],
   "source": [
    "#Executing baum Welch inbuilt package has been used\n",
    "pi = pi_k.clone()\n",
    "a = a_k.clone()\n",
    "b = b_k.clone()\n",
    "\n",
    "model = hmm.CategoricalHMM(n_components=2, random_state=7)\n",
    "model.startprob_ = pi\n",
    "model.transmat_ = a\n",
    "model.emissionprob_ = b\n",
    "\n",
    "fitted_model = model.fit(x2.reshape(-1,1))\n",
    "\n",
    "#The different probs are\n",
    "print(f'The start probabilities is {fitted_model.startprob_}\\n')\n",
    "print(f'The transition probabilities is {fitted_model.transmat_}\\n')\n",
    "print(f'The emission probabilities is {fitted_model.emissionprob_}\\n')"
   ]
  }
 ],
 "metadata": {
  "kernelspec": {
   "display_name": "Python 3 (ipykernel)",
   "language": "python",
   "name": "python3"
  },
  "language_info": {
   "codemirror_mode": {
    "name": "ipython",
    "version": 3
   },
   "file_extension": ".py",
   "mimetype": "text/x-python",
   "name": "python",
   "nbconvert_exporter": "python",
   "pygments_lexer": "ipython3",
   "version": "3.9.17"
  }
 },
 "nbformat": 4,
 "nbformat_minor": 5
}
